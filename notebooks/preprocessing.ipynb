{
 "cells": [
  {
   "cell_type": "markdown",
   "metadata": {},
   "source": [
    "# Preprocessing"
   ]
  },
  {
   "cell_type": "code",
   "execution_count": 1,
   "metadata": {},
   "outputs": [],
   "source": [
    "import re\n",
    "import os\n",
    "import glob\n",
    "import html\n",
    "import shutil\n",
    "\n",
    "import pandas as pd\n",
    "from bs4 import BeautifulSoup\n",
    "from tqdm import tqdm"
   ]
  },
  {
   "cell_type": "code",
   "execution_count": 2,
   "metadata": {},
   "outputs": [],
   "source": [
    "LACUNA = re.compile(r'\\.\\.+')\n",
    "\n",
    "def load_file(path):\n",
    "    with open(path) as f:\n",
    "        xml_text = f.read()\n",
    "    \n",
    "    xml_text = xml_text.replace('&oudpond;', '')\n",
    "    xml_text = xml_text.replace('&supm;', 'm')\n",
    "    xml_text = xml_text.replace('&supM;', 'm')\n",
    "    xml_text = xml_text.replace('&supc;', 'c')\n",
    "    xml_text = xml_text.replace('&supt;', 't')\n",
    "    xml_text = xml_text.replace('&supn;', 'n')\n",
    "    xml_text = xml_text.replace('&sups;', 's')\n",
    "    xml_text = xml_text.replace('&supd;', 'd')\n",
    "    xml_text = xml_text.replace('&supc;', 'c')\n",
    "    xml_text = xml_text.replace('&uring;', 'u')\n",
    "    xml_text = xml_text.replace('&lt;', '')\n",
    "    xml_text = xml_text.replace('&gt;', '')\n",
    "    xml_text = html.unescape(xml_text)\n",
    "\n",
    "    soup = BeautifulSoup(xml_text)\n",
    "    \n",
    "    data = {}\n",
    "\n",
    "    # extract metadata:\n",
    "    data['id'] = os.path.basename(path).replace('.xml', '')\n",
    "    data['title'] = soup.find('title').text\n",
    "    data['author'] = soup.find('author').text\n",
    "    \n",
    "    postquem = '<UNK>'\n",
    "    try:\n",
    "        postquem = soup.find('interpgrp', {'type': 'witnessYear_from'})\n",
    "        postquem = postquem.find('interp')['value']\n",
    "    except AttributeError:\n",
    "        pass\n",
    "    \n",
    "    antequem = '<UNK>'\n",
    "    try:\n",
    "        antequem = soup.find('interpgrp', {'type': 'witnessYear_to'})\n",
    "        antequem = antequem.find('interp')['value']\n",
    "    except AttributeError:\n",
    "        pass\n",
    "    \n",
    "    data['date'] = f'{postquem}-{antequem}'\n",
    "    \n",
    "    provenance = '<UNK>'\n",
    "    try:\n",
    "        provenance = soup.find('interpgrp', {'type': 'corpusProvenance'})\n",
    "        provenance = provenance.find('interp')['value']\n",
    "    except AttributeError:\n",
    "        pass\n",
    "    data['provenance'] = provenance\n",
    "    \n",
    "    # extract and clean lines:\n",
    "    lines = []\n",
    "    for line in soup.find_all('l'):\n",
    "        text = line.get_text().strip()\n",
    "        if text and not re.search(LACUNA, text):\n",
    "            line = ''.join([c for c in text if c.isalpha() or c.isspace()]).strip()\n",
    "            if line:\n",
    "                lines.append(line)\n",
    "    \n",
    "    data['lines'] = lines\n",
    "    \n",
    "    return data"
   ]
  },
  {
   "cell_type": "code",
   "execution_count": 3,
   "metadata": {},
   "outputs": [
    {
     "name": "stderr",
     "output_type": "stream",
     "text": [
      "100%|██████████| 262/262 [00:36<00:00,  7.23it/s]\n"
     ]
    }
   ],
   "source": [
    "texts = []\n",
    "for fn in tqdm(glob.glob('../data/cdrom_rhyme/*.xml')):\n",
    "    texts.append(load_file(fn))"
   ]
  },
  {
   "cell_type": "code",
   "execution_count": 4,
   "metadata": {},
   "outputs": [
    {
     "name": "stderr",
     "output_type": "stream",
     "text": [
      "100%|██████████| 21/21 [00:01<00:00, 20.61it/s]\n"
     ]
    }
   ],
   "source": [
    "for fn in tqdm(glob.glob('../data/cdrom_CG1/*.xml')):\n",
    "    with open(fn) as f:\n",
    "        text = f.read()\n",
    "    \n",
    "    # metadata\n",
    "    data = {}\n",
    "    data['id'] = os.path.basename(fn).replace('.xml', '')\n",
    "    data['title'] = re.findall(r'\\<bron_oms\\>(.*)\\<\\/bron_oms\\>', text)[0]\n",
    "    postquem = re.findall(r\"jaar\\_tot\\=\\'([0-9]+)'\", text)[0]\n",
    "    antequem = re.findall(r\"jaar\\_van\\=\\'([0-9]+)'\", text)[0]\n",
    "    data['date'] = f'{postquem}-{antequem}'\n",
    "    \n",
    "    data['provenance'] = 'CG1'\n",
    "    data['author'] = 'Onbekend'\n",
    "    \n",
    "    lines = []\n",
    "    for line in text.split('\\n'):\n",
    "        line = line.strip()\n",
    "        if not line:\n",
    "            continue\n",
    "        line = line.replace('<A >', '').replace('</A>', '')\n",
    "        if not line or re.search(LACUNA, line):\n",
    "            continue\n",
    "        \n",
    "        clean = ''\n",
    "        for word in re.findall(r'<C ([0-9#\\*@\\+]+)_([^>]+)>\\s*([^ \\n\\t\\r<]+)', line):\n",
    "            word = word[-1]\n",
    "            word = ''.join([c for c in word if c.isalpha() or c.isspace()]).strip()\n",
    "            if word:\n",
    "                clean += word + ' '\n",
    "        clean = clean.strip()\n",
    "        if clean:\n",
    "            lines.append(clean)\n",
    "    \n",
    "    data['lines'] = lines\n",
    "    \n",
    "    texts.append(data)"
   ]
  },
  {
   "cell_type": "code",
   "execution_count": 5,
   "metadata": {},
   "outputs": [],
   "source": [
    "metadata = []\n",
    "for text in texts:\n",
    "    d = {d:text[d] for d in text if d != 'lines'}\n",
    "    metadata.append(d)"
   ]
  },
  {
   "cell_type": "code",
   "execution_count": 6,
   "metadata": {},
   "outputs": [
    {
     "data": {
      "text/html": [
       "<div>\n",
       "<style scoped>\n",
       "    .dataframe tbody tr th:only-of-type {\n",
       "        vertical-align: middle;\n",
       "    }\n",
       "\n",
       "    .dataframe tbody tr th {\n",
       "        vertical-align: top;\n",
       "    }\n",
       "\n",
       "    .dataframe thead th {\n",
       "        text-align: right;\n",
       "    }\n",
       "</style>\n",
       "<table border=\"1\" class=\"dataframe\">\n",
       "  <thead>\n",
       "    <tr style=\"text-align: right;\">\n",
       "      <th></th>\n",
       "      <th>title</th>\n",
       "      <th>author</th>\n",
       "      <th>date</th>\n",
       "      <th>provenance</th>\n",
       "    </tr>\n",
       "    <tr>\n",
       "      <th>id</th>\n",
       "      <th></th>\n",
       "      <th></th>\n",
       "      <th></th>\n",
       "      <th></th>\n",
       "    </tr>\n",
       "  </thead>\n",
       "  <tbody>\n",
       "    <tr>\n",
       "      <th>ongeidentificeerd_6</th>\n",
       "      <td>Ongeïdentificeerd (6)</td>\n",
       "      <td>Onbekend</td>\n",
       "      <td>1375-1400</td>\n",
       "      <td>cdrom-mnl</td>\n",
       "    </tr>\n",
       "    <tr>\n",
       "      <th>theophilus</th>\n",
       "      <td>Theophilus</td>\n",
       "      <td>Onbekend</td>\n",
       "      <td>1400-1420</td>\n",
       "      <td>cdrom-mnl</td>\n",
       "    </tr>\n",
       "    <tr>\n",
       "      <th>madelgijs_fragm_le2</th>\n",
       "      <td>Madelgijs</td>\n",
       "      <td>Onbekend</td>\n",
       "      <td>1350-1400</td>\n",
       "      <td>cdrom-mnl</td>\n",
       "    </tr>\n",
       "    <tr>\n",
       "      <th>roelantslied_fragm_br</th>\n",
       "      <td>Roelantslied</td>\n",
       "      <td>Onbekend</td>\n",
       "      <td>1350-1400</td>\n",
       "      <td>cdrom-mnl</td>\n",
       "    </tr>\n",
       "    <tr>\n",
       "      <th>spiegel_der_jongers</th>\n",
       "      <td>Spiegel der jongers</td>\n",
       "      <td>Lambertus Goetman</td>\n",
       "      <td>1510-1520</td>\n",
       "      <td>cdrom-mnl</td>\n",
       "    </tr>\n",
       "    <tr>\n",
       "      <th>...</th>\n",
       "      <td>...</td>\n",
       "      <td>...</td>\n",
       "      <td>...</td>\n",
       "      <td>...</td>\n",
       "    </tr>\n",
       "    <tr>\n",
       "      <th>Der naturen bloeme, handschrift M</th>\n",
       "      <td>Der naturen bloeme, handschrift M</td>\n",
       "      <td>Onbekend</td>\n",
       "      <td>1300-1276</td>\n",
       "      <td>CG1</td>\n",
       "    </tr>\n",
       "    <tr>\n",
       "      <th>Aiol</th>\n",
       "      <td>Aiol</td>\n",
       "      <td>Onbekend</td>\n",
       "      <td>1240-1220</td>\n",
       "      <td>CG1</td>\n",
       "    </tr>\n",
       "    <tr>\n",
       "      <th>Enaamse Codex</th>\n",
       "      <td>Enaamse Codex</td>\n",
       "      <td>Onbekend</td>\n",
       "      <td>1290-1290</td>\n",
       "      <td>CG1</td>\n",
       "    </tr>\n",
       "    <tr>\n",
       "      <th>Lutgard K</th>\n",
       "      <td>Corpus II-5 Lutgard K</td>\n",
       "      <td>Onbekend</td>\n",
       "      <td>1270-1265</td>\n",
       "      <td>CG1</td>\n",
       "    </tr>\n",
       "    <tr>\n",
       "      <th>Sinte Lutgart, handschrift A</th>\n",
       "      <td>Sinte Lutgart, handschrift A</td>\n",
       "      <td>Onbekend</td>\n",
       "      <td>1300-1276</td>\n",
       "      <td>CG1</td>\n",
       "    </tr>\n",
       "  </tbody>\n",
       "</table>\n",
       "<p>283 rows × 4 columns</p>\n",
       "</div>"
      ],
      "text/plain": [
       "                                                               title  \\\n",
       "id                                                                     \n",
       "ongeidentificeerd_6                            Ongeïdentificeerd (6)   \n",
       "theophilus                                                Theophilus   \n",
       "madelgijs_fragm_le2                                        Madelgijs   \n",
       "roelantslied_fragm_br                                   Roelantslied   \n",
       "spiegel_der_jongers                              Spiegel der jongers   \n",
       "...                                                              ...   \n",
       "Der naturen bloeme, handschrift M  Der naturen bloeme, handschrift M   \n",
       "Aiol                                                            Aiol   \n",
       "Enaamse Codex                                          Enaamse Codex   \n",
       "Lutgard K                                      Corpus II-5 Lutgard K   \n",
       "Sinte Lutgart, handschrift A            Sinte Lutgart, handschrift A   \n",
       "\n",
       "                                              author       date provenance  \n",
       "id                                                                          \n",
       "ongeidentificeerd_6                         Onbekend  1375-1400  cdrom-mnl  \n",
       "theophilus                                  Onbekend  1400-1420  cdrom-mnl  \n",
       "madelgijs_fragm_le2                         Onbekend  1350-1400  cdrom-mnl  \n",
       "roelantslied_fragm_br                       Onbekend  1350-1400  cdrom-mnl  \n",
       "spiegel_der_jongers                Lambertus Goetman  1510-1520  cdrom-mnl  \n",
       "...                                              ...        ...        ...  \n",
       "Der naturen bloeme, handschrift M           Onbekend  1300-1276        CG1  \n",
       "Aiol                                        Onbekend  1240-1220        CG1  \n",
       "Enaamse Codex                               Onbekend  1290-1290        CG1  \n",
       "Lutgard K                                   Onbekend  1270-1265        CG1  \n",
       "Sinte Lutgart, handschrift A                Onbekend  1300-1276        CG1  \n",
       "\n",
       "[283 rows x 4 columns]"
      ]
     },
     "execution_count": 6,
     "metadata": {},
     "output_type": "execute_result"
    }
   ],
   "source": [
    "mdf = pd.DataFrame(metadata)\n",
    "mdf = mdf.set_index('id')\n",
    "mdf"
   ]
  },
  {
   "cell_type": "markdown",
   "metadata": {},
   "source": [
    "Clean up author labels:"
   ]
  },
  {
   "cell_type": "code",
   "execution_count": 7,
   "metadata": {},
   "outputs": [
    {
     "data": {
      "text/plain": [
       "Lodewijk van Velthem          16\n",
       "Jacob van Maerlant            15\n",
       "Philip Utenbroeke              8\n",
       "Jan van Boendale               6\n",
       "Jacob van Maerlant(?)          4\n",
       "Augustijnken                   3\n",
       "Hadewijch                      2\n",
       "Jan de Weert                   2\n",
       "Hein van Aken                  2\n",
       "Willem van Hildegaersberch     1\n",
       "Hein van Aken(?)               1\n",
       "Heinriic                       1\n",
       "Willem                         1\n",
       "Dirc Potter                    1\n",
       "Clays van Haerlem              1\n",
       "Penninc en Pieter Vostaert     1\n",
       "Heraut Beyeren                 1\n",
       "Diederic van Assenede          1\n",
       "Loy Latewaert                  1\n",
       "Gielijs van Molhem             1\n",
       "Hendrik van Veldeke            1\n",
       "Jan van Heelu                  1\n",
       "Jan Praet                      1\n",
       "Lambertus Goetman              1\n",
       "Calfstaf en Noydekin(?)        1\n",
       "Melis Stoke                    1\n",
       "Name: author, dtype: int64"
      ]
     },
     "execution_count": 7,
     "metadata": {},
     "output_type": "execute_result"
    }
   ],
   "source": [
    "import numpy as np\n",
    "mdf['author'] = mdf['author'].replace('Niet van toepassing', 'Onbekend')\n",
    "mdf['author'] = mdf['author'].replace('Onbekend', np.nan)\n",
    "mdf['author'] = mdf['author'].str.replace(r'Jacob van Maerlant\\?', 'Jacob van Maerlant(?)')\n",
    "mdf['author'].value_counts(dropna=True)"
   ]
  },
  {
   "cell_type": "markdown",
   "metadata": {},
   "source": [
    "Set some (uninformative) values for missing dates:"
   ]
  },
  {
   "cell_type": "code",
   "execution_count": 8,
   "metadata": {},
   "outputs": [],
   "source": [
    "mdf.loc['jan_splinters_testament', 'date'] = '1550-1550'\n",
    "mdf.loc['borchgrave_van_couchi_fragm_dp', 'date'] = '1300-1325'\n",
    "mdf.loc['grimbergse_oorlog', 'date'] = '1300-1350'"
   ]
  },
  {
   "cell_type": "code",
   "execution_count": 9,
   "metadata": {},
   "outputs": [],
   "source": [
    "mdf['date_range'] = mdf['date']\n",
    "dates = []\n",
    "for d in mdf['date_range']:\n",
    "    d1, d2 = [int(date_str) for date_str in d.split('-')]\n",
    "    d = d1 + ((d2 - d1) / 2)\n",
    "    dates.append(d)\n",
    "mdf['date'] = dates"
   ]
  },
  {
   "cell_type": "code",
   "execution_count": 10,
   "metadata": {},
   "outputs": [
    {
     "name": "stderr",
     "output_type": "stream",
     "text": [
      "In /Users/mikekestemont/anaconda3/envs/n36/lib/python3.6/site-packages/matplotlib/mpl-data/stylelib/_classic_test.mplstyle: \n",
      "The text.latex.preview rcparam was deprecated in Matplotlib 3.3 and will be removed two minor releases later.\n",
      "In /Users/mikekestemont/anaconda3/envs/n36/lib/python3.6/site-packages/matplotlib/mpl-data/stylelib/_classic_test.mplstyle: \n",
      "The mathtext.fallback_to_cm rcparam was deprecated in Matplotlib 3.3 and will be removed two minor releases later.\n",
      "In /Users/mikekestemont/anaconda3/envs/n36/lib/python3.6/site-packages/matplotlib/mpl-data/stylelib/_classic_test.mplstyle: Support for setting the 'mathtext.fallback_to_cm' rcParam is deprecated since 3.3 and will be removed two minor releases later; use 'mathtext.fallback : 'cm' instead.\n",
      "In /Users/mikekestemont/anaconda3/envs/n36/lib/python3.6/site-packages/matplotlib/mpl-data/stylelib/_classic_test.mplstyle: \n",
      "The validate_bool_maybe_none function was deprecated in Matplotlib 3.3 and will be removed two minor releases later.\n",
      "In /Users/mikekestemont/anaconda3/envs/n36/lib/python3.6/site-packages/matplotlib/mpl-data/stylelib/_classic_test.mplstyle: \n",
      "The savefig.jpeg_quality rcparam was deprecated in Matplotlib 3.3 and will be removed two minor releases later.\n",
      "In /Users/mikekestemont/anaconda3/envs/n36/lib/python3.6/site-packages/matplotlib/mpl-data/stylelib/_classic_test.mplstyle: \n",
      "The keymap.all_axes rcparam was deprecated in Matplotlib 3.3 and will be removed two minor releases later.\n",
      "In /Users/mikekestemont/anaconda3/envs/n36/lib/python3.6/site-packages/matplotlib/mpl-data/stylelib/_classic_test.mplstyle: \n",
      "The animation.avconv_path rcparam was deprecated in Matplotlib 3.3 and will be removed two minor releases later.\n",
      "In /Users/mikekestemont/anaconda3/envs/n36/lib/python3.6/site-packages/matplotlib/mpl-data/stylelib/_classic_test.mplstyle: \n",
      "The animation.avconv_args rcparam was deprecated in Matplotlib 3.3 and will be removed two minor releases later.\n"
     ]
    },
    {
     "data": {
      "image/png": "[encoded data removed]",
      "text/plain": [
       "<Figure size 432x288 with 1 Axes>"
      ]
     },
     "metadata": {
      "needs_background": "light"
     },
     "output_type": "display_data"
    }
   ],
   "source": [
    "mdf['date'].plot.kde();"
   ]
  },
  {
   "cell_type": "code",
   "execution_count": 11,
   "metadata": {},
   "outputs": [],
   "source": [
    "mdf['genre'] = None\n",
    "mdf['subgenre'] = None\n",
    "mdf.to_excel('../data/metadata_extract.xlsx', header=True, index=True)"
   ]
  },
  {
   "cell_type": "markdown",
   "metadata": {},
   "source": [
    "## Enrich using PIE"
   ]
  },
  {
   "cell_type": "markdown",
   "metadata": {},
   "source": [
    "Taken from the [PIE NLP Taggers documentation](https://github.com/hipster-philology/nlp-pie-taggers):"
   ]
  },
  {
   "cell_type": "code",
   "execution_count": 12,
   "metadata": {},
   "outputs": [],
   "source": [
    "from typing import List\n",
    "from pie_extended.cli.utils import get_tagger, get_model, download\n",
    "import lxml.etree"
   ]
  },
  {
   "cell_type": "code",
   "execution_count": 13,
   "metadata": {},
   "outputs": [],
   "source": [
    "do_download = False # set to True if necessary\n",
    "if do_download:\n",
    "    for dl in download(\"dum\"):\n",
    "        x = 1"
   ]
  },
  {
   "cell_type": "code",
   "execution_count": 14,
   "metadata": {},
   "outputs": [],
   "source": [
    "xml_path = '../data/xml'\n",
    "try:\n",
    "    shutil.rmtree(xml_path)\n",
    "except FileNotFoundError:\n",
    "    pass\n",
    "os.mkdir(xml_path)"
   ]
  },
  {
   "cell_type": "code",
   "execution_count": 15,
   "metadata": {},
   "outputs": [
    {
     "name": "stderr",
     "output_type": "stream",
     "text": [
      "2023-01-31 16:10:58,540 : Model /Users/mikekestemont/anaconda3/envs/n36/lib/python3.6/site-packages/pie_extended/downloads/dum/lemma.tar was serialized with a previous version of `pie`. This might result in issues. Model commit is 050815e, whereas current `pie` commit is 9ce3e8f.\n",
      "2023-01-31 16:10:58,955 : Model /Users/mikekestemont/anaconda3/envs/n36/lib/python3.6/site-packages/pie_extended/downloads/dum/pos.tar was serialized with a previous version of `pie`. This might result in issues. Model commit is 050815e, whereas current `pie` commit is 9ce3e8f.\n",
      "100%|██████████| 283/283 [21:20:16<00:00, 271.44s/it]     \n"
     ]
    }
   ],
   "source": [
    "from pie_extended.models.dum.imports import get_iterator_and_processor\n",
    "from collections import defaultdict\n",
    "\n",
    "iterator, processor = get_iterator_and_processor()\n",
    "tagger = get_tagger('dum', batch_size=256, device=\"cpu\", model_path=None)\n",
    "\n",
    "for text in tqdm(texts):\n",
    "    title = text['id']\n",
    "    root = lxml.etree.Element('text')\n",
    "    root.attrib['id'] = title\n",
    "    \n",
    "    lines: List[str] = [l.lower() for l in text['lines']]\n",
    "    for nb, line in enumerate(lines):\n",
    "        l_node = lxml.etree.Element('l')\n",
    "        l_node.attrib['n'] = str(nb + 1)\n",
    "        \n",
    "        p = defaultdict(list)\n",
    "        for w in tagger.tag_str(line, iterator=iterator, processor=processor):\n",
    "            p['tokens'].append(w['form'])\n",
    "            p['lemmas'].extend(w['lemma'].split('+'))\n",
    "            p['pos'].extend(w['pos'].split('+'))\n",
    "            \n",
    "        for tag in ('tokens', 'lemmas', 'pos'):\n",
    "            subnode = lxml.etree.Element(tag)\n",
    "            subnode.text = ' '.join(p[tag])\n",
    "            l_node.append(subnode)    \n",
    "        \n",
    "        root.append(l_node)\n",
    "    \n",
    "    with open(f'{xml_path}/{title}.xml', 'w') as f:\n",
    "        f.write(lxml.etree.tostring(root, xml_declaration=True,\n",
    "                                pretty_print=True, encoding='utf-8').decode())\n",
    "    "
   ]
  }
 ],
 "metadata": {
  "kernelspec": {
   "display_name": "Python (n36)",
   "language": "python",
   "name": "n36"
  },
  "language_info": {
   "codemirror_mode": {
    "name": "ipython",
    "version": 3
   },
   "file_extension": ".py",
   "mimetype": "text/x-python",
   "name": "python",
   "nbconvert_exporter": "python",
   "pygments_lexer": "ipython3",
   "version": "3.6.10"
  }
 },
 "nbformat": 4,
 "nbformat_minor": 4
}
